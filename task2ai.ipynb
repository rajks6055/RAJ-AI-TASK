{
 "cells": [
  {
   "cell_type": "code",
   "execution_count": 1,
   "id": "64315683-2074-429f-89cd-831d3846c52a",
   "metadata": {},
   "outputs": [],
   "source": [
    "import pandas as pd\n",
    "import numpy as np\n",
    "import matplotlib.pyplot as plt\n",
    "import seaborn as sb"
   ]
  },
  {
   "cell_type": "code",
   "execution_count": 2,
   "id": "a998b3c1-8f9c-4a4e-b91c-d9d473ce4a28",
   "metadata": {},
   "outputs": [],
   "source": [
    "csv_files=['social_media.csv','security_logs.csv','relationships.csv','person.csv','location.csv','location_history.csv','interview.csv',\n",
    "          'forensic_evidence.csv','financial_transactions','employment.csv','drivers_license.csv','digital_evidence.csv','crime_scene_report.csv',\n",
    "          'company.csv']"
   ]
  },
  {
   "cell_type": "code",
   "execution_count": 3,
   "id": "e99cf371-9a08-4fb3-8886-dcfeef166733",
   "metadata": {},
   "outputs": [],
   "source": [
    "#pd.set_option('display.max_colwidth', None)  # Don't truncate strings\n",
    "#pd.set_option('display.max_columns', None)   # Show all columns\n",
    "#pd.set_option('display.width', 1000)         # Wide enough so pandas doesn't wrap lines\n"
   ]
  },
  {
   "cell_type": "markdown",
   "id": "082f7490-a0ff-4c2e-a89d-c507373575f7",
   "metadata": {},
   "source": [
    "<h2 style=\"color :red\">Murder was done on 15th june at 8:30PM</h2>"
   ]
  },
  {
   "cell_type": "code",
   "execution_count": 4,
   "id": "6fa75082-73b5-4c2d-afc2-d86e8ed10e3f",
   "metadata": {},
   "outputs": [
    {
     "name": "stdout",
     "output_type": "stream",
     "text": [
      "0    Tech billionaire Elijah Armstrong found dead in his penthouse office. Multiple toxins detected, suggesting a sophisticated assassination. Security systems showed evidence of quantum-level tampering. Victim was involved in controversial merger with implications for international quantum computing research. Last known video shows meeting with unknown diplomatic personnel. Project Phoenix files partially deleted.\n",
      "Name: description, dtype: object\n"
     ]
    }
   ],
   "source": [
    "df = pd.read_csv('crime_scene_report.csv') \n",
    "# Convert the 'date' column to datetime\n",
    "df['date'] = pd.to_datetime(df['date'], format='%Y%m%d')\n",
    "filtered = df[\n",
    "    (df['type'].str.lower() == 'murder') &\n",
    "    (df['date'] == pd.to_datetime('2023-06-15'))\n",
    "]\n",
    "pd.set_option('display.max_colwidth', None)\n",
    "\n",
    "\n",
    "print(filtered['description'])"
   ]
  },
  {
   "cell_type": "markdown",
   "id": "385eb82d-ee2e-484c-a290-ef886d6e1c66",
   "metadata": {},
   "source": [
    "<h3 style=\"color:green\"></br>\n",
    "💀 Victim: Elijah Armstrong</br>\n",
    "Date of death: June 15, 2023</br>\n",
    "Cause: Multiple toxins (tetrodotoxin, synthetic digitalis, rare polonium isotope)</br>\n",
    "Time window: 20:15–20:45</br>\n",
    "Crime scene: His penthouse office</br>\n",
    "Key clue: Involvement in Project Phoenix and an international quantum computing merger</h3>"
   ]
  },
  {
   "cell_type": "markdown",
   "id": "d47d37f3-bcdd-466f-a590-0abf058d698d",
   "metadata": {},
   "source": [
    "<h3 style=\"color:red\">DIGITAL_EVIDENCE</h3>"
   ]
  },
  {
   "cell_type": "code",
   "execution_count": 5,
   "id": "cc409016-7250-4c37-b753-9fc6620c14cc",
   "metadata": {
    "scrolled": true
   },
   "outputs": [
    {
     "name": "stdout",
     "output_type": "stream",
     "text": [
      "    person_id          device_type       content_type formatted_timestamp  \\\n",
      "0          10               Laptop              Email 2023-06-15 16:02:00   \n",
      "1          10         Mobile Phone       Text Message 2023-06-15 22:10:00   \n",
      "2          10      Office Computer    Browser History 2023-06-15 21:30:00   \n",
      "3          10      Building System         Access Log 2023-06-15 23:13:00   \n",
      "4          30               Tablet           Document 2023-06-15 20:02:00   \n",
      "5          40         Mobile Phone       Text Message 2023-06-15 22:10:00   \n",
      "6          50      Security System           Log File 2023-06-15 22:35:00   \n",
      "7          80               Laptop  Remote Access Log 2023-06-15 22:10:00   \n",
      "8          10               Server   Financial Record 2023-06-14 16:00:00   \n",
      "9          20         Mobile Phone           Calendar 2023-06-15 16:02:00   \n",
      "10        110     Quantum Computer           Log File 2023-06-15 22:35:00   \n",
      "11        110       Quantum Server       Research Log 2023-10-03 18:30:00   \n",
      "12        130  Laboratory Computer              Email 2023-10-03 18:35:00   \n",
      "13        140     Security Console          Alert Log 2023-10-03 18:50:00   \n",
      "14        150               Tablet            Message 2023-10-03 19:05:00   \n",
      "15        160    Diplomatic Device          Encrypted 2023-10-03 19:20:00   \n",
      "16        170      Security Tablet         Access Log 2023-10-03 19:35:00   \n",
      "17        180     Security Console       Override Log 2023-10-03 19:50:00   \n",
      "18        190  Intelligence Device             Report 2023-10-03 20:05:00   \n",
      "19        200    Diplomatic Server            Archive 2023-10-03 20:20:00   \n",
      "20        170      Personal Laptop              Email 2023-06-15 21:58:00   \n",
      "21         30      Personal Laptop              Email 2023-06-15 22:00:00   \n",
      "22         50        Backup Server         Access Log 2023-06-15 22:30:00   \n",
      "\n",
      "                                                                                                                                                                                                                                                                                                                                                                    content  \n",
      "0   From: m.davidson@cryptosphere.com \\r\\nSubject: Final Merger Documents \\r\\nDate: June 15, 2023 14:22\\r\\nBody: Elijah, I've uploaded the final documents to the secure server. We should go through them tonight before tomorrow's announcement. The valuation adjustment we discussed has been included in section 12.4. Don't forget about our contingency plan. - Maya  \n",
      "1                                                                                                                                                                                                                      To: Sarah Chen\\r\\nTime: 19:50\\r\\nBody: Need another hour before our meeting. Unexpected issue with Project Phoenix integration. Come up around 9:45.  \n",
      "2                                                                                                                                              Visited: secure.cryptosphere.com/project-phoenix/contingency\\r\\nsecure.cryptosphere.com/merger-docs\\r\\ndarkweb.onion/market/rare-toxins\\r\\nmail.cryptosphere.com\\r\\nnews.financial-times.com/tech-acquisitions\\r\\nsudoku.com  \n",
      "3               Office door unlocked: 19:55\\r\\nOffice door locked from inside: 19:56\\r\\nEmergency override attempted: 20:35 - Failed (Invalid credentials)\\r\\nEmergency override attempted: 20:36 - Failed (Invalid credentials)\\r\\nEmergency override successful: 21:53 (Security Director Override)\\r\\nSecondary security system disabled: 20:05 (Admin credentials: vtk)  \n",
      "4                                                                                                                                                                                             Technical assessment of Project Phoenix security vulnerabilities. Marked CONFIDENTIAL. Contains proof of backdoor access implemented by E.A. Last edited: June 15, 2023 18:42  \n",
      "5                                                                                                                                                                                                                                                                From: Unknown\\r\\nTime: 19:48\\r\\nBody: Remember our deal. The merger must not proceed. You know what to do.  \n",
      "6                                                                     Camera maintenance mode activated: 20:05 (Credentials: m.davidson)\\r\\nCamera system reboot initiated: 20:06\\r\\nSystem restoration failed: 20:35\\r\\nManual override initiated: 20:36\\r\\nSystem backup activated: 21:45\\r\\nEncrypted data transfer detected: 20:15 (Destination: quantum.nexustech.com)  \n",
      "7                                                                                                  Connected to CryptoSphere security server: 19:30\\r\\nRunning diagnostic sequence: 19:35-20:15\\r\\nSecurity patch installation: 20:20-21:05\\r\\nAccess to Project Phoenix repository: 20:25\\r\\nConnection terminated: 21:10\\r\\nRemote connection from: RivalTech IP detected  \n",
      "8                                                                                                      Confidential memo regarding ownership stake adjustment for Viktor Radek and Dr. Zhang. Reduction from 15% to 7.5% post-merger, effective upon closing. Quantum computing patents transfer to NexusTech Research included. Approved by E. Armstrong on June 14, 2023.  \n",
      "9                                                                                                                                                                 June 15, 2023\\r\\n7:00 PM - Dinner with QuantumLink investors - Grand Hotel\\r\\n9:30 PM - Encrypted call with V.R.\\r\\n10:15 PM - Delete Project Phoenix backups\\r\\n11:00 PM - Send revised proposal to team  \n",
      "10                                                                                                 Unauthorized quantum encryption detected: 20:15\\r\\nProject Phoenix parameters modified: 20:18\\r\\nBackdoor implementation detected: 20:22\\r\\nCritical system failure: 20:25\\r\\nRecovery initiated by: unknown_admin\\r\\nRecovery failed: authorization DIPLOMATIC_OVERRIDE  \n",
      "11                                                                                                                                                Project Phoenix quantum encryption successfully tested. Breakthrough achieved in quantum tunneling effect. Critical vulnerability discovered in CryptoSphere implementation. Must inform diplomatic channels immediately.  \n",
      "12                                                                                                               From: unknown@diplomatic.net\\r\\nSubject: RE: Quantum Vulnerability\\r\\nTime: 19:15\\r\\nBody: Your discovery changes everything. The CryptoSphere implementation could compromise national security. Proceed with diplomatic channels as discussed in Geneva.  \n",
      "13                                                                                                                                                                                                                        Multiple quantum signature anomalies detected. Pattern matches CryptoSphere incident from June. Possible connection to diplomatic override codes.  \n",
      "14                                                                                                                                                                                                                        To: ENCRYPTED\\r\\nTime: 19:45\\r\\nBody: Asset secured. Implementation flaws documented. Initiating cleanup protocol as discussed in Geneva meeting.  \n",
      "15                                                                                                                                                                               [CLASSIFIED DIPLOMATIC COMMUNICATION]\\r\\nRE: Project Phoenix Implications\\r\\nQuantum vulnerability confirmation received. Asset elimination authorized. Use standard diplomatic protocols.  \n",
      "16                                                                                                                                                                                                                                                                      Quantum lab breach detected. Multiple access points compromised. Signature matches Geneva incident.  \n",
      "17                                                                                                                                                                                                                                                                          Emergency protocols initiated. Quantum signature detected. Matches pattern from Armstrong case.  \n",
      "18                                                                                                                                                                                                                                                                      Asset termination confirmed. Quantum research secured. Connection to CryptoSphere case established.  \n",
      "19                                                                                                                                                                                                                            Project Phoenix quantum vulnerability poses unprecedented risk. Connection to Armstrong assassination confirmed. Zhang elimination necessary.  \n",
      "20                                                                                                                                                                                                                                           To: k.vtk@diplomatic.secure.net\\r\\nSubject: Contingency Execution\\r\\nDate: June 15, 2023 19:18\\r\\nBody: The package received ?  \n",
      "21                                                                                                                                                                                                    To: n.orlova@diplomatic.secure.net\\r\\nSubject: Contingency Execution\\r\\nDate: June 15, 2023 19:20\\r\\nBody: The package you provided has been delivered as discussed.   \n",
      "22                                                                                                                                        Emergency backup log (offline storage)\\r\\n20:03 - Override code used for 50th floor office: VTK-ADMIN\\r\\n20:07 - Override code used for 50th floor exit: VTK-ADMIN\\r\\nNote: Primary logs deleted at 20:15 using admin credentials  \n"
     ]
    }
   ],
   "source": [
    "digital_df=pd.read_csv('digital_evidence.csv')\n",
    "digital_df['formatted_timestamp'] = pd.to_datetime(digital_df['timestamp'], unit='s')\n",
    "result=digital_df[['person_id','device_type','content_type','formatted_timestamp','content']]\n",
    "#result = result.sort_values(by='formatted_timestamp')\n",
    "pd.set_option('display.max_colwidth', None)\n",
    "print(result)"
   ]
  },
  {
   "cell_type": "markdown",
   "id": "63fef969-b9e4-44fc-bf9e-4254bc23f086",
   "metadata": {},
   "source": [
    "<h3>Digital Evidence Summary</h3>"
   ]
  },
  {
   "cell_type": "markdown",
   "id": "53af18a8-3956-4f95-8275-0286fe3f4373",
   "metadata": {},
   "source": [
    "<h5 style=\"color:blue\">On June 15, 2023, Person 10 received the final merger documents from Maya, which included mention of a contingency plan, and later that evening postponed a meeting citing integration issues with Project Phoenix. Their browser activity around 9:30 PM revealed searches related to the merger, contingency planning, and rare toxin markets, while security logs show they unlocked their office at 7:55 PM, locked it from inside a minute later, and multiple failed emergency override attempts were made around 8:35 PM—only succeeding at 9:53 PM using the Security Director's credentials, after the secondary security system had been disabled at 8:05 PM using admin credentials (vtk). Earlier that evening, at 8:02 PM, Person 30 filed a confidential report exposing a backdoor vulnerability in Project Phoenix. Later, at 10:35 PM, Person 50 triggered camera maintenance, during which encrypted data was transferred to NexusTech. Months later, on October 3, 2023, Person 110 reported a critical quantum vulnerability requiring diplomatic intervention, followed by Person 160 sending an encrypted diplomatic message that included authorization for elimination.</h5>"
   ]
  },
  {
   "cell_type": "markdown",
   "id": "a69c570f-bd18-4c9b-94d3-8bcf6e6b30c8",
   "metadata": {},
   "source": [
    "<h2 style=\"color:Red\">Location Hist</h2>"
   ]
  },
  {
   "cell_type": "code",
   "execution_count": 6,
   "id": "479b111d-6e03-47ec-bf53-bfa7ccb1a58d",
   "metadata": {
    "scrolled": true
   },
   "outputs": [
    {
     "name": "stdout",
     "output_type": "stream",
     "text": [
      "    person_id  location_id formatted_timestamp duration_formatted  \\\n",
      "8          80           13 2023-06-14 16:00:00          10h 0m 0s   \n",
      "0          10            1 2023-06-15 16:02:00          3h 30m 0s   \n",
      "9          90            1 2023-06-15 16:02:00           4h 0m 0s   \n",
      "4          40           12 2023-06-15 20:02:00           2h 0m 0s   \n",
      "2          30            3 2023-06-15 21:30:00           3h 0m 0s   \n",
      "1          20            5 2023-06-15 22:10:00           5h 0m 0s   \n",
      "5          40            1 2023-06-15 22:10:00           2h 0m 0s   \n",
      "7          60            1 2023-06-15 22:10:00          5h 30m 0s   \n",
      "6          50            1 2023-06-15 22:35:00           6h 0m 0s   \n",
      "10         90            7 2023-06-15 22:35:00           3h 0m 0s   \n",
      "3          30           11 2023-06-15 23:13:00          11h 0m 0s   \n",
      "11        100            8 2023-10-03 18:30:00          2h 30m 0s   \n",
      "12         60            8 2023-10-03 18:35:00          0h 30m 0s   \n",
      "13        100            5 2023-10-03 18:50:00           4h 0m 0s   \n",
      "\n",
      "                     activity  \n",
      "8                At residence  \n",
      "0           Working in office  \n",
      "9                     Working  \n",
      "4                At residence  \n",
      "2              Working in lab  \n",
      "1              Dinner meeting  \n",
      "5           Meeting at office  \n",
      "7                     Working  \n",
      "6             Security patrol  \n",
      "10            Meeting friends  \n",
      "3                At residence  \n",
      "11                    Working  \n",
      "12  Video call with Armstrong  \n",
      "13          At executive club  \n"
     ]
    }
   ],
   "source": [
    "location_hist_df=pd.read_csv('location_history.csv')\n",
    "location_hist_df['formatted_timestamp'] = pd.to_datetime(digital_df['timestamp'], unit='s')\n",
    "def convert_seconds(seconds):\n",
    "    hours = seconds // 3600\n",
    "    minutes = (seconds % 3600) // 60\n",
    "    secs = seconds % 60\n",
    "    return f\"{int(hours)}h {int(minutes)}m {int(secs)}s\"\n",
    "\n",
    "\n",
    "location_hist_df['duration_formatted'] = location_hist_df['duration'].apply(convert_seconds)\n",
    "result=location_hist_df[['person_id','location_id','formatted_timestamp','duration_formatted','activity']]\n",
    "result = result.sort_values(by='formatted_timestamp')\n",
    "print(result)\n"
   ]
  },
  {
   "cell_type": "code",
   "execution_count": 7,
   "id": "d18d82c9-74fc-4211-bef4-a4fa92141693",
   "metadata": {},
   "outputs": [
    {
     "name": "stdout",
     "output_type": "stream",
     "text": [
      "    id                    name                address      city  \\\n",
      "0    1         CryptoSphere HQ    1000 Innovation Way  SQL City   \n",
      "2    3    CryptoSphere R&D Lab    1050 Innovation Way  SQL City   \n",
      "4    5         The Grand Hotel           888 Broadway  SQL City   \n",
      "10  11  Viktor Radek Residence  1200 Marina Boulevard  SQL City   \n",
      "11  12    Sarah Chen Residence       42 Sunset Avenue  SQL City   \n",
      "\n",
      "                 type  latitude  longitude  \n",
      "0     Office Building   37.7749  -122.4194  \n",
      "2   Research Facility   37.7749  -122.4196  \n",
      "4               Hotel   37.7879  -122.4074  \n",
      "10          Residence   37.8035  -122.4399  \n",
      "11          Residence   37.7459  -122.4863  \n"
     ]
    }
   ],
   "source": [
    "location_df = pd.read_csv('location.csv')\n",
    "filtered = location_df[\n",
    "    (location_df['id'] == 1) |\n",
    "    (location_df['id'] == 12) |\n",
    "    (location_df['id'] == 3) |\n",
    "    (location_df['id'] == 5) |\n",
    "    (location_df['id'] == 11)\n",
    "]\n",
    "print(filtered)"
   ]
  },
  {
   "cell_type": "markdown",
   "id": "d087e7ce-213f-4f52-9041-5aa26cdaaf6f",
   "metadata": {},
   "source": [
    "<h4 style=\"color:red\">Summary Of Location History</h4>\n",
    "<h5 style=\"color:blue\">Person 30 has a highly inconsistent alibi—claiming to be \"Working in lab\" until 00:30 and then suddenly \"At residence\" (Viktor Radek's home)</br> at 23:13 for 11 hours, which is impossible—suggesting a fabricated timeline. Person 90 and Person 100 also have conflicting location records, while</br> The Grand Hotel (location_id 5) appears in multiple suspicious activities. The most likely scenario is that Person 30 lied about their </br>whereabouts, possibly to cover up involvement in a crime (such as a murder) at Viktor Radek's residence or another location during the time </br>discrepancy. Security patrol overlaps and other suspicious movements (like Person 100's impossible work/executive club timeline) may indicate coordinated deception or witness tampering.</h5>"
   ]
  },
  {
   "cell_type": "markdown",
   "id": "243bfe2c-b63f-46bb-97ed-33ca84617681",
   "metadata": {},
   "source": [
    "<h2 style=\"color:red\">CCTV photage of 15th june</h2>"
   ]
  },
  {
   "cell_type": "code",
   "execution_count": 8,
   "id": "4d7caa05-38e8-4765-8bea-b67c68e30304",
   "metadata": {},
   "outputs": [
    {
     "name": "stdout",
     "output_type": "stream",
     "text": [
      "    person_id       date  time          action  \\\n",
      "0        10.0 2023-06-15  1705           Enter   \n",
      "1        60.0 2023-06-15  1832            Exit   \n",
      "2        30.0 2023-06-15  1845           Enter   \n",
      "3        90.0 2023-06-15  1955            Exit   \n",
      "4        30.0 2023-06-15  2012            Exit   \n",
      "5        50.0 2023-06-15  2015           Enter   \n",
      "6        50.0 2023-06-15  2025            Exit   \n",
      "7        50.0 2023-06-15  2026           Enter   \n",
      "8        50.0 2023-06-15  2048            Exit   \n",
      "9        50.0 2023-06-15  2049           Enter   \n",
      "10       50.0 2023-06-15  2110            Exit   \n",
      "11       50.0 2023-06-15  2111           Enter   \n",
      "12       50.0 2023-06-15  2135            Exit   \n",
      "13       50.0 2023-06-15  2136           Enter   \n",
      "14       50.0 2023-06-15  2158            Exit   \n",
      "15       40.0 2023-06-15  2147           Enter   \n",
      "16       40.0 2023-06-15  2153  Access Attempt   \n",
      "17       50.0 2023-06-15  2153        Override   \n",
      "18       50.0 2023-06-15  2155  Access Granted   \n",
      "19       40.0 2023-06-15  2156           Enter   \n",
      "51       30.0 2023-06-15  2003  Access Granted   \n",
      "52       30.0 2023-06-15  2009  Elevator Usage   \n",
      "53       30.0 2023-06-15  2012   Building Exit   \n",
      "54        NaN 2023-06-15  2020    System Alert   \n",
      "55        NaN 2023-06-15  2035    System Alert   \n",
      "\n",
      "                                                                                                                                        details  \n",
      "0                                                                                                         Biometric + RFID badge authentication  \n",
      "1                                                                                                         Biometric + RFID badge authentication  \n",
      "2                                                                          RFID badge authentication - biometric system offline for maintenance  \n",
      "3                                                                                                                     RFID badge authentication  \n",
      "4                                                                                                                     RFID badge authentication  \n",
      "5                                                                                                        RFID badge authentication - 50th floor  \n",
      "6                                                                                                        RFID badge authentication - 50th floor  \n",
      "7                                                                                                        RFID badge authentication - 45th floor  \n",
      "8                                                                                                        RFID badge authentication - 45th floor  \n",
      "9                                                                                                        RFID badge authentication - 46th floor  \n",
      "10                                                                                                       RFID badge authentication - 46th floor  \n",
      "11                                                                                                       RFID badge authentication - 47th floor  \n",
      "12                                                                                                       RFID badge authentication - 47th floor  \n",
      "13                                                                                                       RFID badge authentication - 48th floor  \n",
      "14                                                                                                       RFID badge authentication - 48th floor  \n",
      "15                                                                                                Biometric + RFID badge authentication - Lobby  \n",
      "16                                                                Attempted to access 50th floor - Access denied (Emergency lockdown in effect)  \n",
      "17                                                                                            Emergency override initiated on 50th floor office  \n",
      "18                                                                                                Emergency access granted to 50th floor office  \n",
      "19                                                                                            Granted access to 50th floor by security override  \n",
      "51                                                                 Executive override used on Armstrong's office door - Admin code: VRTEK-00125  \n",
      "52                                                                      Executive elevator to R&D floor - facial recognition confirmed identity  \n",
      "53                                                           Verified exit using both RFID and facial recognition, exiting towards R&D building  \n",
      "54                    Emergency backup security system detected unauthorized access to Armstrong's office, video footage saved to secure server  \n",
      "55  Executive medical monitor detected cardiac failure in Armstrong's office, automatic alert sent to security director's offline backup system  \n"
     ]
    }
   ],
   "source": [
    "security_df=pd.read_csv('security_logs.csv')\n",
    "security_df['date'] = pd.to_datetime(security_df['date'], format='%Y%m%d')\n",
    "filtered = security_df[\n",
    "    (security_df['date'] == pd.to_datetime('2023-06-15'))\n",
    "]\n",
    "result=filtered[['person_id','date','time','action','details']]\n",
    "pd.set_option('display.max_colwidth', None)\n",
    "print(result)"
   ]
  },
  {
   "cell_type": "markdown",
   "id": "6e93f6e5-e636-4963-bd79-1408cf7fc606",
   "metadata": {},
   "source": [
    "<h2>Summary of CCTV PHOTAGE</h2>"
   ]
  },
  {
   "cell_type": "markdown",
   "id": "d595296c-d4c9-48fb-a6e2-2b74780c7ca0",
   "metadata": {},
   "source": [
    "<h5 style=\"color:blue\">On the evening in question, Person 10 arrived at 5:05 PM via normal security checks with digital activity confirming their presence, Person 30 entered at 6:45 PM and left at 8:12 PM after using an admin override to access Armstrong’s office—possibly to report or assist with an issue, Person 50 showed highly suspicious behavior by frequently moving between the 45th and 50th floors from 8:15 PM to 9:58 PM, including using an emergency override to enter the 50th-floor office amidst strange digital activity suggesting tampering, Person 40 arrived at 9:47 PM but was initially blocked from the 50th floor due to a lockdown until Person 50 granted them access, while Persons 60 and 90 entered and exited without any unusual activity.</h5>"
   ]
  },
  {
   "cell_type": "markdown",
   "id": "8a4fae5a-640d-4192-b6b2-2285adfe9d12",
   "metadata": {},
   "source": [
    "<h2 style=\"color:red\">Forensic Report</h2>"
   ]
  },
  {
   "cell_type": "code",
   "execution_count": 9,
   "id": "7aa373b6-d9f2-47a2-81cb-45640f6b695f",
   "metadata": {},
   "outputs": [
    {
     "name": "stdout",
     "output_type": "stream",
     "text": [
      "   person_id          type  \\\n",
      "0       10.0    Toxicology   \n",
      "1       30.0  Fingerprints   \n",
      "2        NaN    Electronic   \n",
      "3       10.0      Document   \n",
      "4       50.0         Trace   \n",
      "5        NaN       Digital   \n",
      "6        NaN    Biological   \n",
      "7       30.0       Residue   \n",
      "8       30.0       Digital   \n",
      "\n",
      "                                                                                                                                                                                                                                                                                                description  \n",
      "0                                 Multiple toxins detected: traces of tetrodotoxin in victim's coffee cup (20:15 sample), synthetic digitalis compound in water glass (19:45 sample), and rare polonium isotope residue on desk surface (source: NexusTech lab). Death window revised: between 20:15-20:45.  \n",
      "1                                                                 Multiple fingerprints found: E. Rodriguez (coffee cup, 19:30), V. Radek (laptop, 19:45), M. Davidson (document cabinet, 20:10), Unknown diplomatic credentials (window ledge, time unknown), S. Zhang (quantum encryption device, 20:05)   \n",
      "2  Security system analysis shows multiple anomalies: credentials used simultaneously in different locations, quantum encryption signatures matching NexusTech patterns, and diplomatic-grade override attempts. System logs show maintenance mode activated using three different administrative accounts.  \n",
      "3                                Hidden compartment in desk contained: Project Phoenix contingency plans, offshore account details (Cayman Islands), and handwritten notes about quantum technology transfer to diplomatic contacts. Notes mention 'VR', 'SD', and 'Chinese embassy' with coded timestamps.  \n",
      "4                                                         Specialized fabric fibers found: standard-issue security uniform (M. Taylor), high-end suit fabric matching V. Radek's tailor, and diplomatic service uniform fibers (sources: Russian and Chinese embassies).traces of etrodotoxin in car SEC456  \n",
      "5                                                           Advanced forensic analysis reveals: victim's computer accessed remotely at 20:22 (quantum encrypted connection), Project Phoenix files copied to three different locations, and emergency protocols disabled using Dr. Zhang's old credentials.  \n",
      "6                                                                                         Multiple DNA samples found: unknown female (lip print on coffee cup, non-employee), genetic profile matching diplomatic database (restricted access), and traces of Dr. Zhang's DNA on quantum encryption device.  \n",
      "7                                                                                                                     Microscopic residue on a suit jacket (collected from office chair) chemically matches tetrodotoxin compound found in victim's system. Source markers indicate diplomatic-grade toxin.  \n",
      "8                                                                                                                                                                                                        Deleted email recovery from Viktor Radek's personal device shows communication with Natasha Orlova  \n"
     ]
    }
   ],
   "source": [
    "forensic_df = pd.read_csv('forensic_evidence.csv')\n",
    "\n",
    "\n",
    "filtered = forensic_df[forensic_df['crime_scene_report_id'] == 1]\n",
    "\n",
    "# Select only the person_id and description columns\n",
    "result = filtered[['person_id','type', 'description']]\n",
    "\n",
    "# Show the result\n",
    "print(result)"
   ]
  },
  {
   "cell_type": "markdown",
   "id": "8f1c36eb-32de-4771-ad51-d1171e9eab7c",
   "metadata": {},
   "source": [
    "<h3>Summary of forensic Report</h3>"
   ]
  },
  {
   "cell_type": "markdown",
   "id": "680feae6-3946-4945-930b-c3b1027c81ef",
   "metadata": {},
   "source": [
    "<h5 style=\"color:blue\">The victim was poisoned with rare toxins—tetrodotoxin in coffee, digitalis in water, and polonium on the desk—suggesting a diplomatic or high-level plot; fingerprints, DNA, and clothing fibers link multiple suspects including Viktor Radek, S. Zhang, and a mysterious diplomat, while tampered security, stolen Project Phoenix files, and traces of diplomatic-grade materials point to a coordinated attack involving diplomatic access and possibly Chinese and Russian embassy ties.</h5>"
   ]
  },
  {
   "cell_type": "code",
   "execution_count": 10,
   "id": "a0e28f6c-5efd-4794-b609-5c7d2135ba27",
   "metadata": {},
   "outputs": [
    {
     "name": "stdout",
     "output_type": "stream",
     "text": [
      "    id  person1_id  person2_id relationship_type  start_date  end_date  \\\n",
      "0    1          10          20      Professional    20160712       NaN   \n",
      "1    2          10          30      Professional    20170305       NaN   \n",
      "2    3          10          40      Professional    20180110       NaN   \n",
      "3    4          10          60      Professional    20210908       NaN   \n",
      "4    5          10          70      Professional    20150403       NaN   \n",
      "5    6          10         100      Professional    20220105       NaN   \n",
      "6    7          20          30          Personal    20180610       NaN   \n",
      "7    8          30          50      Professional    20190614       NaN   \n",
      "8    9          30          80      Professional    20230511       NaN   \n",
      "9   10          40          10          Personal    20220304       NaN   \n",
      "10  11          50          80      Professional    20230511       NaN   \n",
      "11  12          90          30      Professional    20211105       NaN   \n",
      "13  14         110          30      Professional    20230301       NaN   \n",
      "16  17          30         170        Classified    20230220       NaN   \n",
      "18  19          50         190      Professional    20230410       NaN   \n",
      "19  20          60         200          Personal    20230315       NaN   \n",
      "22  23          90         180      Professional    20230501       NaN   \n",
      "24  25          30         110          Research    20230301       NaN   \n",
      "\n",
      "                                                                                                notes  \n",
      "0   CEO-COO relationship, generally positive but increasingly strained over Project Phoenix direction  \n",
      "1                     CEO-CTO relationship, severely deteriorated after discovery of quantum backdoor  \n",
      "2                                     CEO-CFO relationship, complicated by secret merger negotiations  \n",
      "3                                        Executive-Assistant relationship, suspected information leak  \n",
      "4                                  Board member relationship, hostile after rejected takeover attempt  \n",
      "5                                          Complex financial relationship involving offshore accounts  \n",
      "6                                   Former romantic relationship, ended after Project Phoenix dispute  \n",
      "7                                                         Collaboration on quantum security protocols  \n",
      "8                                                           Suspicious pattern of late-night meetings  \n",
      "9                                                        Close friendship masking financial conflicts  \n",
      "10                                  Security oversight relationship with unauthorized access patterns  \n",
      "11                                                             Quantum code development collaboration  \n",
      "13                                        Quantum research collaboration with diplomatic implications  \n",
      "16                                                                   Unauthorized diplomatic contacts  \n",
      "18                                                           Security protocol sharing - unauthorized  \n",
      "19                                                                   Information sharing relationship  \n",
      "22                                                                          Unauthorized code sharing  \n",
      "24                                                                        Quantum technology transfer  \n"
     ]
    }
   ],
   "source": [
    "\n",
    "rel_df = pd.read_csv('relationships.csv')\n",
    "\n",
    "related = rel_df[(rel_df['person1_id'] == 10) | (rel_df['person2_id'] == 10)\n",
    "|(rel_df['person1_id'] == 30) | (rel_df['person2_id'] == 30)\n",
    "|(rel_df['person1_id'] == 50) | (rel_df['person2_id'] == 50)\n",
    "|(rel_df['person1_id'] == 60) | (rel_df['person2_id'] == 60)\n",
    "|(rel_df['person1_id'] == 90) | (rel_df['person2_id'] == 90)\n",
    "]\n",
    "\n",
    "print(related)\n"
   ]
  },
  {
   "cell_type": "markdown",
   "id": "4388372e-2d26-4d9a-add2-272f52982501",
   "metadata": {},
   "source": [
    "<h2 style=\"color:red\">SUSPECTS SEEMS TO INVOLVED IN MURDER</h2>"
   ]
  },
  {
   "cell_type": "code",
   "execution_count": 11,
   "id": "b765f32d-b0f8-4c9c-a261-41d7d7ab7003",
   "metadata": {},
   "outputs": [
    {
     "name": "stdout",
     "output_type": "stream",
     "text": [
      "0    Elijah Armstrong\n",
      "2        Viktor Radek\n",
      "3          Sarah Chen\n",
      "4       Marcus Taylor\n",
      "5      Emma Rodriguez\n",
      "8        David Okafor\n",
      "Name: name, dtype: object\n"
     ]
    }
   ],
   "source": [
    "person_df=pd.read_csv('person.csv')\n",
    "filtered = person_df[(person_df['id'] == 10) | (person_df['id'] == 30) | (person_df['id'] == 50)|(person_df['id'] == 40)|\n",
    "(person_df['id'] == 60) |(person_df['id'] == 90)]\n",
    "result=filtered['name']\n",
    "print(result)"
   ]
  },
  {
   "cell_type": "markdown",
   "id": "99c2ce6c-2c05-47da-932a-e2c7b16eba68",
   "metadata": {},
   "source": [
    "<h2 style=\"color:red\">Financial_Transaction</h2>"
   ]
  },
  {
   "cell_type": "code",
   "execution_count": 12,
   "id": "3fc5b870-f16b-405b-acc3-efc5dfb4a4b8",
   "metadata": {},
   "outputs": [
    {
     "data": {
      "text/html": [
       "<div>\n",
       "<style scoped>\n",
       "    .dataframe tbody tr th:only-of-type {\n",
       "        vertical-align: middle;\n",
       "    }\n",
       "\n",
       "    .dataframe tbody tr th {\n",
       "        vertical-align: top;\n",
       "    }\n",
       "\n",
       "    .dataframe thead th {\n",
       "        text-align: right;\n",
       "    }\n",
       "</style>\n",
       "<table border=\"1\" class=\"dataframe\">\n",
       "  <thead>\n",
       "    <tr style=\"text-align: right;\">\n",
       "      <th></th>\n",
       "      <th>id</th>\n",
       "      <th>person_id</th>\n",
       "      <th>transaction_type</th>\n",
       "      <th>amount</th>\n",
       "      <th>date</th>\n",
       "      <th>time</th>\n",
       "      <th>location_id</th>\n",
       "      <th>recipient_id</th>\n",
       "      <th>account_number</th>\n",
       "      <th>transaction_details</th>\n",
       "    </tr>\n",
       "  </thead>\n",
       "  <tbody>\n",
       "    <tr>\n",
       "      <th>0</th>\n",
       "      <td>1</td>\n",
       "      <td>30</td>\n",
       "      <td>Wire Transfer</td>\n",
       "      <td>2500000.00</td>\n",
       "      <td>20230610</td>\n",
       "      <td>1425</td>\n",
       "      <td>NaN</td>\n",
       "      <td>NaN</td>\n",
       "      <td>CAYM182736495</td>\n",
       "      <td>Transfer to offshore account</td>\n",
       "    </tr>\n",
       "    <tr>\n",
       "      <th>1</th>\n",
       "      <td>2</td>\n",
       "      <td>30</td>\n",
       "      <td>Cash Withdrawal</td>\n",
       "      <td>25000.00</td>\n",
       "      <td>20230612</td>\n",
       "      <td>1055</td>\n",
       "      <td>8.0</td>\n",
       "      <td>NaN</td>\n",
       "      <td>CRYP78291046</td>\n",
       "      <td>Maximum daily withdrawal</td>\n",
       "    </tr>\n",
       "    <tr>\n",
       "      <th>2</th>\n",
       "      <td>3</td>\n",
       "      <td>20</td>\n",
       "      <td>Restaurant Bill</td>\n",
       "      <td>1247.86</td>\n",
       "      <td>20230615</td>\n",
       "      <td>2243</td>\n",
       "      <td>5.0</td>\n",
       "      <td>NaN</td>\n",
       "      <td>CRYP24680135</td>\n",
       "      <td>Dinner with 6 guests - QuantumLink investors</td>\n",
       "    </tr>\n",
       "    <tr>\n",
       "      <th>3</th>\n",
       "      <td>4</td>\n",
       "      <td>40</td>\n",
       "      <td>Stock Purchase</td>\n",
       "      <td>350000.00</td>\n",
       "      <td>20230614</td>\n",
       "      <td>1010</td>\n",
       "      <td>NaN</td>\n",
       "      <td>NaN</td>\n",
       "      <td>CRYP13572468</td>\n",
       "      <td>Purchase of RivalTech stock options</td>\n",
       "    </tr>\n",
       "    <tr>\n",
       "      <th>4</th>\n",
       "      <td>5</td>\n",
       "      <td>10</td>\n",
       "      <td>Real Estate Payment</td>\n",
       "      <td>4500000.00</td>\n",
       "      <td>20230603</td>\n",
       "      <td>930</td>\n",
       "      <td>NaN</td>\n",
       "      <td>NaN</td>\n",
       "      <td>CRYP97531086</td>\n",
       "      <td>Final payment on diplomatic district property</td>\n",
       "    </tr>\n",
       "  </tbody>\n",
       "</table>\n",
       "</div>"
      ],
      "text/plain": [
       "   id  person_id     transaction_type      amount      date  time  \\\n",
       "0   1         30        Wire Transfer  2500000.00  20230610  1425   \n",
       "1   2         30      Cash Withdrawal    25000.00  20230612  1055   \n",
       "2   3         20      Restaurant Bill     1247.86  20230615  2243   \n",
       "3   4         40       Stock Purchase   350000.00  20230614  1010   \n",
       "4   5         10  Real Estate Payment  4500000.00  20230603   930   \n",
       "\n",
       "   location_id  recipient_id account_number  \\\n",
       "0          NaN           NaN  CAYM182736495   \n",
       "1          8.0           NaN   CRYP78291046   \n",
       "2          5.0           NaN   CRYP24680135   \n",
       "3          NaN           NaN   CRYP13572468   \n",
       "4          NaN           NaN   CRYP97531086   \n",
       "\n",
       "                             transaction_details  \n",
       "0                   Transfer to offshore account  \n",
       "1                       Maximum daily withdrawal  \n",
       "2   Dinner with 6 guests - QuantumLink investors  \n",
       "3            Purchase of RivalTech stock options  \n",
       "4  Final payment on diplomatic district property  "
      ]
     },
     "execution_count": 12,
     "metadata": {},
     "output_type": "execute_result"
    }
   ],
   "source": [
    "financial_df=pd.read_csv('financial_transactions.csv')\n",
    "financial_df.head()"
   ]
  },
  {
   "cell_type": "code",
   "execution_count": 13,
   "id": "43297e0d-e11d-4e48-91a7-eab020f09923",
   "metadata": {},
   "outputs": [
    {
     "name": "stdout",
     "output_type": "stream",
     "text": [
      "    id  person_id       transaction_type      amount      date  time  \\\n",
      "0    1         30          Wire Transfer  2500000.00  20230610  1425   \n",
      "1    2         30        Cash Withdrawal    25000.00  20230612  1055   \n",
      "2    3         20        Restaurant Bill     1247.86  20230615  2243   \n",
      "3    4         40         Stock Purchase   350000.00  20230614  1010   \n",
      "4    5         10    Real Estate Payment  4500000.00  20230603   930   \n",
      "5    6         50        Cash Withdrawal     5000.00  20230613  1622   \n",
      "6    7         50               Purchase     3499.99  20230614  1245   \n",
      "7    8         30          Wire Transfer  1000000.00  20230614  1630   \n",
      "8    9         70  Expense Reimbursement    12456.78  20230614   945   \n",
      "9   10        100        Restaurant Bill      342.56  20230615  2035   \n",
      "10  11        110          Wire Transfer   750000.00  20230612  1515   \n",
      "11  12         20         Cryptocurrency  1500000.00  20230615  1922   \n",
      "12  13         80                Payment    25000.00  20230614  1645   \n",
      "13  14         10          Wire Transfer  3000000.00  20230615  1830   \n",
      "14  15         30             Stock Sale  2750000.00  20230615  1515   \n",
      "15  16         40          Wire Transfer   500000.00  20230615  1945   \n",
      "16  17        110         Cryptocurrency  1250000.00  20230614  2130   \n",
      "17  18         20          Wire Transfer  1750000.00  20230615  2015   \n",
      "18  19         50                Payment    15000.00  20230615  1855   \n",
      "19  20         90          Wire Transfer   250000.00  20230615  1930   \n",
      "20  21        110         Research Grant  1500000.00  20231001  1422   \n",
      "21  22        130          Wire Transfer   750000.00  20231002   915   \n",
      "22  23        140                Payment   250000.00  20231002  1630   \n",
      "23  24        150         Cryptocurrency  2000000.00  20231002  2145   \n",
      "24  25        160          Wire Transfer  3500000.00  20231003   830   \n",
      "25  26        170                Payment   500000.00  20231003  1245   \n",
      "26  27        180          Wire Transfer  1250000.00  20231003  1515   \n",
      "27  28        190         Cryptocurrency  1750000.00  20231003  1845   \n",
      "28  29        200          Wire Transfer  2500000.00  20231003  2015   \n",
      "29  30        110             Stock Sale  3000000.00  20231003   945   \n",
      "\n",
      "    location_id  recipient_id account_number  \\\n",
      "0           NaN           NaN  CAYM182736495   \n",
      "1           8.0           NaN   CRYP78291046   \n",
      "2           5.0           NaN   CRYP24680135   \n",
      "3           NaN           NaN   CRYP13572468   \n",
      "4           NaN           NaN   CRYP97531086   \n",
      "5           8.0           NaN   SECU24681357   \n",
      "6           NaN           NaN   SECU97531086   \n",
      "7           NaN           NaN   CRYP56789012   \n",
      "8           1.0           NaN   BOAR12345678   \n",
      "9           5.0           NaN   EVER45678901   \n",
      "10          NaN           NaN   NTRI78945612   \n",
      "11          NaN           NaN   CRYP98765432   \n",
      "12          NaN           NaN   SECU45678901   \n",
      "13          NaN           NaN  DIPLO12345678   \n",
      "14          NaN           NaN   CRYP23456789   \n",
      "15          NaN           NaN   NTRI34567890   \n",
      "16          NaN           NaN   QUAN87654321   \n",
      "17          NaN           NaN  DIPLO98765432   \n",
      "18          NaN           NaN   SECU56789012   \n",
      "19          NaN           NaN   TECH45678901   \n",
      "20          NaN           NaN   QRES87654321   \n",
      "21          NaN           NaN  DIPLO45678901   \n",
      "22          NaN           NaN   TECH98765432   \n",
      "23          NaN           NaN  CRYPT12345678   \n",
      "24          NaN           NaN   INTL87654321   \n",
      "25          NaN           NaN    SEC34567890   \n",
      "26          NaN           NaN  DIPLO23456789   \n",
      "27          NaN           NaN   ANON98765432   \n",
      "28          NaN           NaN   TECH45678901   \n",
      "29          NaN           NaN   CRYP34567890   \n",
      "\n",
      "                                transaction_details  \n",
      "0                      Transfer to offshore account  \n",
      "1                          Maximum daily withdrawal  \n",
      "2      Dinner with 6 guests - QuantumLink investors  \n",
      "3               Purchase of RivalTech stock options  \n",
      "4     Final payment on diplomatic district property  \n",
      "5              ATM withdrawal near embassy district  \n",
      "6           Specialized security equipment purchase  \n",
      "7            Transfer to NexusTech Research account  \n",
      "8   Travel expenses for quantum research conference  \n",
      "9                         Dinner with Maya Davidson  \n",
      "10             Transfer to diplomatic security fund  \n",
      "11             Purchase of anonymous digital assets  \n",
      "12         Security consulting services - RivalTech  \n",
      "13           Transfer to diplomatic investment fund  \n",
      "14        Sale of CryptoSphere shares before merger  \n",
      "15  Payment to NexusTech Research - Project Phoenix  \n",
      "16               Anonymous quantum research funding  \n",
      "17    Consulting fees - Chinese technology transfer  \n",
      "18    Special security equipment - diplomatic grade  \n",
      "19     Software development - Project Phoenix patch  \n",
      "20  Quantum research funding from diplomatic source  \n",
      "21                      Technology transfer payment  \n",
      "22                   Security protocol consultation  \n",
      "23               Anonymous quantum research funding  \n",
      "24                 Classified diplomatic investment  \n",
      "25              Special security equipment purchase  \n",
      "26              International security consultation  \n",
      "27                          Anonymous fund transfer  \n",
      "28                   Technology acquisition payment  \n",
      "29     Emergency liquidation of CryptoSphere shares  \n"
     ]
    }
   ],
   "source": [
    "print(financial_df)"
   ]
  },
  {
   "cell_type": "markdown",
   "id": "50b5815c-e4db-4a1a-9405-f7a23933f4be",
   "metadata": {},
   "source": [
    "<h4 style=\"color:red\">Summary of financial report</h4>\n",
    "<h5>Viktor Radek (primary executor) – Moved millions offshore before the murder.</br>\n",
    "</br>\n",
    "Sarah Chen (financial accomplice) – Betrayed Armstrong by investing in rivals.</br>\n",
    "</br>\n",
    "Marcus Taylor (security insider) – Purchased specialized equipment used in the crime.</br>\n",
    "</br>\n",
    "Diplomatic Entities – Funded the operation and covered it up post-murder.</h5>\n"
   ]
  },
  {
   "cell_type": "code",
   "execution_count": 16,
   "id": "983181ca-0dfa-4c7e-bc78-1282dd53ce20",
   "metadata": {},
   "outputs": [
    {
     "name": "stdout",
     "output_type": "stream",
     "text": [
      "    id  person_id  \\\n",
      "0    1         60   \n",
      "1    2         40   \n",
      "2    3         30   \n",
      "3    4         50   \n",
      "4    5         20   \n",
      "5    6         70   \n",
      "6    7         80   \n",
      "7    8         90   \n",
      "8    9        100   \n",
      "9   10        110   \n",
      "10  11        130   \n",
      "11  12        140   \n",
      "12  13        150   \n",
      "13  14        160   \n",
      "14  15        170   \n",
      "15  16        180   \n",
      "16  17        190   \n",
      "17  18         60   \n",
      "\n",
      "                                                                                                                                                                                                                                                                                                                                                 transcript  \\\n",
      "0      Mr. Armstrong asked me to reschedule his dinner plans on the evening of June 15th. He mentioned needing to review merger documents with Sarah before tomorrow's announcement. He seemed tense but not unusually so. I left his office around 6:30 PM, and he was on a video call with someone - I think it was Thomas Wright from Evergreen Capital.   \n",
      "1                                                                           I was supposed to meet Elijah at 8:30 PM to go over the final merger numbers, but he texted me at 7:50 saying he needed another hour. When I arrived around 9:45 PM, security couldn't reach him, and his office door was locked from the inside. I never saw him that evening.   \n",
      "2                   Yes, Elijah and I had a disagreement about security protocols earlier that week. It was strictly professional. On the night in question, I was working in the R&D lab until about 9 PM, then went straight home. Check the badge logs if you don't believe me. This merger was going to make us all rich - why would I jeopardize that?   \n",
      "3    I was conducting a security sweep of floors 45 through 48 when Mr. Armstrong was presumably killed. The system shows my badge accessing those floors between 8:15 PM and 9:30 PM. It's my job to check all areas. I noticed the security camera on the 50th floor was malfunctioning, but that wasn't unusual given the upgrades we were implementing.   \n",
      "4                                                                            I was at dinner with potential investors from QuantumLink. We were discussing partnership opportunities. We were at The Grand Hotel from 7 PM until nearly midnight. Multiple witnesses and receipts can confirm this. I heard about Elijah's death when the police called me.   \n",
      "5                       As a board member, I had concerns about the merger. Elijah was moving too fast, not performing proper due diligence. We argued about it on Tuesday, but ultimately, it was his company. I was in Beijing on the 15th, giving a keynote at a technology conference. My travel records and livestream of my speech will confirm this.   \n",
      "6                                              I started at CryptoSphere just over a month ago, after the security breach at the R&D lab. Marcus hired me specifically to overhaul the biometric systems. I was updating server configurations remotely from my apartment on the night Mr. Armstrong died. The system logs will show my access credentials.   \n",
      "7                                                                                                   I had no interaction with Mr. Armstrong on the day he died. I was coding in my office until about 8 PM, then went to JavaBeans Coffee Shop to meet some friends. I didn't even know about the murder until the next morning when we were all called in.   \n",
      "8                                                               I had a video call with Elijah at around 7:30 PM to discuss some last-minute terms for the merger financing. He seemed fine, perhaps a bit preoccupied. The call ended at 7:45 PM. I was at my club the rest of the evening - the Downtown Executive Club has me on their security cameras.   \n",
      "9   I was working late on the quantum encryption breakthrough. The diplomatic implications of the vulnerability I found in Project Phoenix were staggering. I tried to warn Elijah back in June, but he wouldn't listen. Now look what's happened. Someone accessed my research using diplomatic override codes - the same type used in the Armstrong case.   \n",
      "10                                                                                                  Dr. Zhang was acting strange in the weeks before her death. She mentioned something about a connection between the Armstrong murder and international quantum computing standards. Said she had proof of unauthorized diplomatic access to our systems.   \n",
      "11                                                                                             Our security logs showed multiple breaches using quantum-based attack vectors. The pattern matched the CryptoSphere incident, but with diplomatic-grade modifications. Dr. Zhang was about to present evidence to the International Quantum Computing Board.   \n",
      "12                                                                                                                                   I detected unauthorized access to the quantum lab using Dr. Zhang's credentials simultaneously from three locations. One traced back to the Geneva diplomatic complex. The others matched IPs from the Armstrong case.   \n",
      "13                                                                                     Last communication with Dr. Zhang concerned critical vulnerabilities in quantum encryption standards. She mentioned evidence linking the Armstrong murder to international quantum computing espionage. Then she discovered something in the diplomatic protocols...   \n",
      "14                                                                                                                             My security team detected quantum-based intrusions matching patterns from both the Armstrong and Zhang cases. The diplomatic override codes used were supposed to be classified. Someone with high-level access is involved.   \n",
      "15                                                                                                                                               The security breach in Geneva used the same quantum encryption signature as the Zhang murder. Both connected to Armstrong's Project Phoenix through diplomatic channels. This goes deeper than we thought.   \n",
      "16                                                                                                                        Intelligence analysis shows a clear pattern: Armstrong's murder, the Geneva incident, and Zhang's death are connected through quantum encryption protocols. Someone's trying to prevent the exposure of a critical vulnerability.   \n",
      "17                       The day before Mr. Armstrong died, I overheard Viktor on a call in the stairwell. He was speaking Russian and mentioned 'Orlova' 'tomorrow evening,' 'package,' and 'Armstrong' multiple times. I speak some Russian from my college studies. I didn't think much of it until after the murder.He also said something about BMW X5   \n",
      "\n",
      "    interview_date  interview_time  interviewer_id  reliability_score  \n",
      "0         20230616            1045             422               0.95  \n",
      "1         20230616            1130             420               0.92  \n",
      "2         20230616            1415             420               0.75  \n",
      "3         20230616            1620             422               0.88  \n",
      "4         20230616            1815             420               0.91  \n",
      "5         20230617             930             422               0.97  \n",
      "6         20230617            1100             425               0.85  \n",
      "7         20230617            1345             425               0.93  \n",
      "8         20230617            1630             422               0.90  \n",
      "9         20231004            1015             430               0.96  \n",
      "10        20231004            1145             430               0.89  \n",
      "11        20231004            1330             430               0.92  \n",
      "12        20231004            1515             430               0.87  \n",
      "13        20230808            1045             450               0.95  \n",
      "14        20230808            1230             450               0.93  \n",
      "15        20230808            1415             450               0.91  \n",
      "16        20230808            1600             450               0.94  \n",
      "17        20230617            1730             422               0.97  \n"
     ]
    }
   ],
   "source": [
    "interview_df=pd.read_csv('interview.csv')\n",
    "print(interview_df)"
   ]
  },
  {
   "cell_type": "markdown",
   "id": "888a53db-097f-4839-9801-cc30f511f44a",
   "metadata": {},
   "source": [
    "<h4 style=\"color:blue\">Viktor is prime suspect #1—foreign ties, shady chat, BMW getaway\n",
    "Security Guard (#3) or New Hire (#6)—they had access and opportunity.\n",
    "And Quantum Researcher (#9)Either a victim… or a mastermind.</h4>"
   ]
  },
  {
   "cell_type": "code",
   "execution_count": 17,
   "id": "77b1069e-50f7-42ae-bae1-7731f0574f74",
   "metadata": {},
   "outputs": [
    {
     "data": {
      "text/html": [
       "<div>\n",
       "<style scoped>\n",
       "    .dataframe tbody tr th:only-of-type {\n",
       "        vertical-align: middle;\n",
       "    }\n",
       "\n",
       "    .dataframe tbody tr th {\n",
       "        vertical-align: top;\n",
       "    }\n",
       "\n",
       "    .dataframe thead th {\n",
       "        text-align: right;\n",
       "    }\n",
       "</style>\n",
       "<table border=\"1\" class=\"dataframe\">\n",
       "  <thead>\n",
       "    <tr style=\"text-align: right;\">\n",
       "      <th></th>\n",
       "      <th>id</th>\n",
       "      <th>age</th>\n",
       "      <th>height</th>\n",
       "      <th>eye_color</th>\n",
       "      <th>hair_color</th>\n",
       "      <th>gender</th>\n",
       "      <th>plate_number</th>\n",
       "      <th>car_make</th>\n",
       "      <th>car_model</th>\n",
       "      <th>car_year</th>\n",
       "    </tr>\n",
       "  </thead>\n",
       "  <tbody>\n",
       "    <tr>\n",
       "      <th>0</th>\n",
       "      <td>10001</td>\n",
       "      <td>52</td>\n",
       "      <td>188</td>\n",
       "      <td>blue</td>\n",
       "      <td>gray</td>\n",
       "      <td>male</td>\n",
       "      <td>CS5290</td>\n",
       "      <td>Tesla</td>\n",
       "      <td>Model X</td>\n",
       "      <td>2022</td>\n",
       "    </tr>\n",
       "    <tr>\n",
       "      <th>1</th>\n",
       "      <td>10002</td>\n",
       "      <td>45</td>\n",
       "      <td>175</td>\n",
       "      <td>hazel</td>\n",
       "      <td>black</td>\n",
       "      <td>female</td>\n",
       "      <td>NXS718</td>\n",
       "      <td>BMW</td>\n",
       "      <td>X5</td>\n",
       "      <td>2020</td>\n",
       "    </tr>\n",
       "    <tr>\n",
       "      <th>2</th>\n",
       "      <td>10003</td>\n",
       "      <td>38</td>\n",
       "      <td>182</td>\n",
       "      <td>brown</td>\n",
       "      <td>brown</td>\n",
       "      <td>male</td>\n",
       "      <td>QNT546</td>\n",
       "      <td>Audi</td>\n",
       "      <td>A8</td>\n",
       "      <td>2021</td>\n",
       "    </tr>\n",
       "    <tr>\n",
       "      <th>3</th>\n",
       "      <td>10004</td>\n",
       "      <td>41</td>\n",
       "      <td>168</td>\n",
       "      <td>green</td>\n",
       "      <td>red</td>\n",
       "      <td>female</td>\n",
       "      <td>EVC999</td>\n",
       "      <td>Mercedes</td>\n",
       "      <td>S-Class</td>\n",
       "      <td>2022</td>\n",
       "    </tr>\n",
       "    <tr>\n",
       "      <th>4</th>\n",
       "      <td>10005</td>\n",
       "      <td>47</td>\n",
       "      <td>180</td>\n",
       "      <td>brown</td>\n",
       "      <td>black</td>\n",
       "      <td>male</td>\n",
       "      <td>BLK357</td>\n",
       "      <td>Dodge</td>\n",
       "      <td>Charger</td>\n",
       "      <td>2019</td>\n",
       "    </tr>\n",
       "  </tbody>\n",
       "</table>\n",
       "</div>"
      ],
      "text/plain": [
       "      id  age  height eye_color hair_color  gender plate_number  car_make  \\\n",
       "0  10001   52     188      blue       gray    male       CS5290     Tesla   \n",
       "1  10002   45     175     hazel      black  female       NXS718       BMW   \n",
       "2  10003   38     182     brown      brown    male       QNT546      Audi   \n",
       "3  10004   41     168     green        red  female       EVC999  Mercedes   \n",
       "4  10005   47     180     brown      black    male       BLK357     Dodge   \n",
       "\n",
       "  car_model  car_year  \n",
       "0   Model X      2022  \n",
       "1        X5      2020  \n",
       "2        A8      2021  \n",
       "3   S-Class      2022  \n",
       "4   Charger      2019  "
      ]
     },
     "execution_count": 17,
     "metadata": {},
     "output_type": "execute_result"
    }
   ],
   "source": [
    "driver_df=pd.read_csv('drivers_license.csv')\n",
    "driver_df.head()"
   ]
  },
  {
   "cell_type": "code",
   "execution_count": 18,
   "id": "b16a46f0-fc78-49f8-92f1-56bf8623dd78",
   "metadata": {},
   "outputs": [
    {
     "name": "stdout",
     "output_type": "stream",
     "text": [
      "       id  age  height eye_color     hair_color  gender plate_number  \\\n",
      "0   10001   52     188      blue           gray    male       CS5290   \n",
      "1   10002   45     175     hazel          black  female       NXS718   \n",
      "2   10003   38     182     brown          brown    male       QNT546   \n",
      "3   10004   41     168     green            red  female       EVC999   \n",
      "4   10005   47     180     brown          black    male       BLK357   \n",
      "5   10006   35     170     brown         blonde  female       CRY123   \n",
      "6   10007   52     175      blue  salt & pepper    male       TEC007   \n",
      "7   10008   29     165      blue         blonde  female       SEC808   \n",
      "8   10009   32     177     brown          brown    male       DEV404   \n",
      "9   10010   46     183     green          brown    male       FIN555   \n",
      "10  10011   38     165     brown          black  female       QNT123   \n",
      "11  10012   45     182      blue          brown    male       RES456   \n",
      "12  10013   35     175     hazel         blonde  female       SCI789   \n",
      "13  10014   42     178     green            red  female       CYB012   \n",
      "14  10015   50     180     brown           gray    male       SEC345   \n",
      "15  10016   55     183      blue         silver    male       DIP789   \n",
      "16  10017   48     175     brown          brown  female       SEC456   \n",
      "17  10018   52     180     green          black    male       CON123   \n",
      "18  10019   38     172     hazel         blonde  female       INT789   \n",
      "19  10020   60     178      gray          white    male       DIP012   \n",
      "20  10021   45     175     brown          black    male       DOC555   \n",
      "21  10022   38     168      blue         blonde  female       NRS789   \n",
      "22  10023   52     182     hazel           gray    male       ADM123   \n",
      "23  10024   36     165     green            red  female       RX4567   \n",
      "24  10025   42     178     brown          brown    male       SEC999   \n",
      "25  10026   42     170     brown          black  female       ART777   \n",
      "26  10027   45     185      blue          blond    male       SEC333   \n",
      "27  10028   55     175     brown           gray    male       COL456   \n",
      "28  10029   38     172     green          brown  female       RES789   \n",
      "29  10030   60     178      blue          white    male       INS012   \n",
      "\n",
      "    car_make       car_model  car_year  \n",
      "0      Tesla         Model X      2022  \n",
      "1        BMW              X5      2020  \n",
      "2       Audi              A8      2021  \n",
      "3   Mercedes         S-Class      2022  \n",
      "4      Dodge         Charger      2019  \n",
      "5    Porsche         Cayenne      2021  \n",
      "6      Lexus              LS      2020  \n",
      "7      Honda          Accord      2018  \n",
      "8     Toyota           Prius      2020  \n",
      "9     Jaguar          F-Type      2021  \n",
      "10    Toyota           Prius      2022  \n",
      "11     Tesla         Model 3      2021  \n",
      "12     Honda           Civic      2020  \n",
      "13     Mazda            CX-5      2019  \n",
      "14      Ford          Escape      2021  \n",
      "15  Mercedes         S-Class      2022  \n",
      "16       BMW        5 Series      2021  \n",
      "17      Audi              A6      2022  \n",
      "18     Volvo            XC60      2020  \n",
      "19    Jaguar              XF      2021  \n",
      "20     Honda          Accord      2020  \n",
      "21    Toyota           Camry      2019  \n",
      "22     Lexus              ES      2021  \n",
      "23    Subaru         Outback      2018  \n",
      "24      Ford        Explorer      2020  \n",
      "25      Mini          Cooper      2021  \n",
      "26      Jeep  Grand Cherokee      2019  \n",
      "27       BMW        3 Series      2020  \n",
      "28      Audi              Q5      2022  \n",
      "29  Mercedes         E-Class      2021  \n"
     ]
    }
   ],
   "source": [
    "print(driver_df)"
   ]
  },
  {
   "cell_type": "markdown",
   "id": "0bb8cd69-b255-4004-9382-aa565589efa2",
   "metadata": {},
   "source": [
    "print(driver_df)"
   ]
  },
  {
   "cell_type": "markdown",
   "id": "b3a7dfa6-baf1-4f35-9ad7-8eaf56df8774",
   "metadata": {},
   "source": [
    "<h1 style=\"color:red\">!FINAL CONCLUSION</h1>"
   ]
  },
  {
   "cell_type": "markdown",
   "id": "e681baaf-e6ce-473f-8204-de243522b19b",
   "metadata": {},
   "source": [
    "<h4 style=\"color:blue\">KEY SUSPECT AND THEIR ROLES</h4>\n",
    "<h5>Viktor Radek (Person ID: 30)</br>\n",
    "Motive: Financial and professional grievances. Forensic reports show he was involved in a controversial merger that reduced his ownership stake. Financial transactions reveal a $2.5 million offshore transfer days before the murder.</br>\n",
    "</br>\n",
    "Opportunity: He was in the R&D lab until 9 PM but used an executive override to access Armstrongs office at 8:03 PM. His car (BMW X5) matches witness accounts of a getaway vehicle.</br>\n",
    "</br>\n",
    "Evidence: His fingerprints were found on Armstrong's laptop, and his suit fibers matched toxin residue.</br> A witness overheard him speaking Russian about a \"package\" and \"Armstrong\" the day before the murder.</br>\n",
    "</h5>"
   ]
  },
  {
   "cell_type": "markdown",
   "id": "3332da15-1733-4661-8ada-6d664452356c",
   "metadata": {},
   "source": [
    "<h4>Sarah Chen (Person ID: 40)</h4>\n",
    "<h5>Motive: Close ties to Armstrong but had financial conflicts. She purchased RivalTech stock options before the murder, suggesting insider trading.</br>\n",
    "</br>\n",
    "Opportunity: She was supposed to meet Armstrong at 8:30 PM but was delayed. Security logs show her entering the building at 9:47 PM, granted access by</br> a security override.</br>\n",
    "</br>\n",
    "Evidence: Her fingerprints were found on a document cabinet, and she received a suspicious text: \"Remember our deal. The merger must not proceed.\"</h5>"
   ]
  },
  {
   "cell_type": "markdown",
   "id": "c2e4b103-5297-4c77-87b2-d21e318511c5",
   "metadata": {},
   "source": [
    "<h4>Marcus Taylor (Security Guard, Person ID: 50)</h4>\n",
    "<h5>Motive: Possible coercion or bribery. His financial records show a $15,000 payment labeled \"special security equipment - diplomatic grade.\"</br>\n",
    "</br>\n",
    "Opportunity: He was patrolling floors 45-50 during the murder window and disabled cameras</br>\n",
    "Evidence: His uniform fibers were found at the scene, and he used an emergency override code (\"VTK-ADMIN\").</h5>"
   ]
  },
  {
   "cell_type": "markdown",
   "id": "ab596504-aedf-429b-9116-119bd0fd6f35",
   "metadata": {},
   "source": [
    "<h4 style=\"color:red\">Reason for Targeting Armstrong</h4>\n",
    "<h5>Armstrong was killed due to Project Phoenix, a quantum computing initiative with international security implications. Forensic notes reveal he had </br>contingency plans involving offshore accounts and unauthorized technology transfers to foreign entities. The merger with NexusTech threatened to</br> expose vulnerabilities that could compromise national security, making him a target for elimination by both corporate rivals and diplomatic operatives</br>.</h5>"
   ]
  },
  {
   "cell_type": "markdown",
   "id": "3ee3b5a5-0fc1-4c0e-ba98-76173dee3d3a",
   "metadata": {},
   "source": [
    "<h4>The murder was a coordinated effort involving Viktor Radek (primary executor), Sarah Chen (financial accomplice), and Marcus Taylor</br>. (security insider), with possible backing from foreign diplomats. The motive was to silence Armstrong and suppress Project Phoenix’s secrets, ensuring </br>control over quantum computing advancements. The use of rare toxins, digital tampering, and diplomatic overrides points to a high-stakes </br>conspiracy blending corporate espionage and international intrigue.</h4>"
   ]
  },
  {
   "cell_type": "code",
   "execution_count": null,
   "id": "588d7c28-eb5d-4231-ab18-da95dd27fd11",
   "metadata": {},
   "outputs": [],
   "source": []
  }
 ],
 "metadata": {
  "kernelspec": {
   "display_name": "Python 3 (ipykernel)",
   "language": "python",
   "name": "python3"
  },
  "language_info": {
   "codemirror_mode": {
    "name": "ipython",
    "version": 3
   },
   "file_extension": ".py",
   "mimetype": "text/x-python",
   "name": "python",
   "nbconvert_exporter": "python",
   "pygments_lexer": "ipython3",
   "version": "3.13.3"
  }
 },
 "nbformat": 4,
 "nbformat_minor": 5
}
